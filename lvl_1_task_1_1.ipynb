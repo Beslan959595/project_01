{
  "nbformat": 4,
  "nbformat_minor": 0,
  "metadata": {
    "colab": {
      "provenance": [],
      "authorship_tag": "ABX9TyNblx3wMQC3UGUmaebLi0ZW",
      "include_colab_link": true
    },
    "kernelspec": {
      "name": "python3",
      "display_name": "Python 3"
    },
    "language_info": {
      "name": "python"
    }
  },
  "cells": [
    {
      "cell_type": "markdown",
      "metadata": {
        "id": "view-in-github",
        "colab_type": "text"
      },
      "source": [
        "<a href=\"https://colab.research.google.com/github/Beslan959595/project_01/blob/main/lvl_1_task_1_1.ipynb\" target=\"_parent\"><img src=\"https://colab.research.google.com/assets/colab-badge.svg\" alt=\"Open In Colab\"/></a>"
      ]
    },
    {
      "cell_type": "code",
      "execution_count": 4,
      "metadata": {
        "colab": {
          "base_uri": "https://localhost:8080/"
        },
        "id": "BGJl6zH15v6g",
        "outputId": "e3485869-016c-46e9-f595-599dadfe0b68"
      },
      "outputs": [
        {
          "output_type": "stream",
          "name": "stdout",
          "text": [
            "Waste a Moment, Staying' Alive,\n",
            "New Salvation\n",
            " A Sorta Fairytale,\n",
            "Start Me Up\n"
          ]
        }
      ],
      "source": [
        "# Задача 1.   Задача 1.1\n",
        "\n",
        "# Есть строка с перечислением песен\n",
        "\n",
        "my_favorite_songs = 'Waste a Moment, Staying\\' Alive, A Sorta Fairytale, Start Me Up, New Salvation'\n",
        "\n",
        "# Выведите на консоль с помощью индексации строки, последовательно: первый трек, последний, второй, второй с конца\n",
        "# Нельзя переопределять my_favorite_songs и запятая не должна выводиться.\n",
        "\n",
        "string_length = len(my_favorite_songs)\n",
        "\n",
        "print(my_favorite_songs[0:31])\n",
        "print(my_favorite_songs[-13:])\n",
        "print(my_favorite_songs[31:50])\n",
        "print(my_favorite_songs[-26:-15])\n",
        "\n"
      ]
    },
    {
      "cell_type": "code",
      "source": [
        "# Задача 1.2.\n",
        "\n",
        "# Пункт A. \n",
        "# Приведем плейлист песен в виде списка списков\n",
        "# Список my_favorite_songs содержит список названий и длительности каждого трека\n",
        "# Выведите общее время звучания трех случайных песен в формате\n",
        "# Три песни звучат ХХХ минут\n",
        "\n",
        "my_favorite_songs = [\n",
        "    ['Waste a Moment', 3.03],\n",
        "    ['New Salvation', 4.02],\n",
        "    ['Staying\\' Alive', 3.40],\n",
        "    ['Out of Touch', 3.03],\n",
        "    ['A Sorta Fairytale', 5.28],\n",
        "    ['Easy', 4.15],\n",
        "    ['Beautiful Day', 4.04],\n",
        "    ['Nowhere to Run', 2.58],\n",
        "    ['In This World', 4.02],\n",
        "]\n",
        "\n",
        "three_songs = my_favorite_songs[3][1] + my_favorite_songs[5][1] + my_favorite_songs[8][1]\n",
        "three_songs = round(three_songs, 2)\n",
        "print('Три песни звучат', three_songs)"
      ],
      "metadata": {
        "colab": {
          "base_uri": "https://localhost:8080/"
        },
        "id": "Tm8ZODTJAIWn",
        "outputId": "175d19a4-28f1-491a-cd40-9a5357722513"
      },
      "execution_count": 7,
      "outputs": [
        {
          "output_type": "stream",
          "name": "stdout",
          "text": [
            "Три песни звучат 11.2\n"
          ]
        }
      ]
    },
    {
      "cell_type": "code",
      "source": [
        "# Пункт B. \n",
        "# Есть словарь песен \n",
        "# Распечатайте общее время звучания трех случайных песен\n",
        "# Вывод: Три песни звучат ХХХ минут.\n",
        "\n",
        "my_favorite_songs_dict = {\n",
        "    'Waste a Moment': 3.03,\n",
        "    'New Salvation': 4.02,\n",
        "    'Staying\\' Alive': 3.40,\n",
        "    'Out of Touch': 3.03,\n",
        "    'A Sorta Fairytale': 5.28,\n",
        "    'Easy': 4.15,\n",
        "    'Beautiful Day': 4.04,\n",
        "    'Nowhere to Run': 2.58,\n",
        "    'In This World': 4.02,\n",
        "}\n",
        "\n",
        "another_three_songs = my_favorite_songs_dict['Waste a Moment'] + my_favorite_songs_dict['A Sorta Fairytale'] + \\\n",
        "                      my_favorite_songs_dict['In This World']\n",
        "print('А другие 3 песни звучат приблизительно', another_three_songs)"
      ],
      "metadata": {
        "colab": {
          "base_uri": "https://localhost:8080/"
        },
        "id": "pWO4pVpgIijh",
        "outputId": "237e7381-c363-4789-9787-484d4236c688"
      },
      "execution_count": 1,
      "outputs": [
        {
          "output_type": "stream",
          "name": "stdout",
          "text": [
            "А другие 3 песни звучат приблизительно 12.33\n"
          ]
        }
      ]
    },
    {
      "cell_type": "markdown",
      "source": [],
      "metadata": {
        "id": "z41XgU2H_3GY"
      }
    },
    {
      "cell_type": "code",
      "source": [
        "# Задача 1.3.\n",
        "\n",
        "# Напишите скрипт, который принимает от пользователя номер месяца, \n",
        "# а возвращает количество дней в нем.\n",
        "# Результат проверки вывести на консоль\n",
        "# Допущение: в феврале 28 дней\n",
        "# Если номер месяца некорректен - сообщить об этом\n",
        "\n",
        "day = int(input())\n",
        "\n",
        "days = [31, 28, 31, 30, 31, 30, 31, 31, 30, 31, 30, 31,]\n",
        "\n",
        "print(days[day - 1] if 1 <= day <= 12 else \"борз\")"
      ],
      "metadata": {
        "colab": {
          "base_uri": "https://localhost:8080/"
        },
        "id": "Cw94vlzCgeu7",
        "outputId": "aaaadb21-9552-4c68-b75b-d1a2908191f6"
      },
      "execution_count": 22,
      "outputs": [
        {
          "output_type": "stream",
          "name": "stdout",
          "text": [
            "2\n",
            "28\n"
          ]
        }
      ]
    },
    {
      "cell_type": "code",
      "source": [
        "# Задача 1.4.\n",
        "\n",
        "# Есть словарь кодов товаров titles\n",
        "\n",
        "titles = {\n",
        "    'Кроссовки тип 3 (Adidas)': '100000110',\n",
        "    'Мячик тип 2 (Adidas)': '100000146',\n",
        "    'Кепка тип 1 (Adidas)': '100000149',\n",
        "    'Ремень тип 2 (Nike)': '100000194',\n",
        "    'Футболка тип 1 (Adidas)': '100000224',\n",
        "    'Шапка тип 5 (Puma)': '100000280',\n",
        "}\n",
        "\n",
        "# Товары находятся на складе и сохранены в виде словаря списков словарей,\n",
        "# которые отражают количество товаров в магазине по каждому коду.\n",
        "\n",
        "store = {\n",
        "    '100000110': [{'quantity': 31, 'price': 1637}],\n",
        "    '100000146': [ {'quantity': 4, 'price': 45}, {'quantity': 10, 'price': 48}],\n",
        "    '100000149': [ {'quantity': 28, 'price': 279}, {'quantity': 32, 'price': 291}],\n",
        "    '100000194': [{'quantity': 8, 'price': 220}, {'quantity': 1, 'price': 170}],\n",
        "    '100000224': [{'quantity': 61, 'price': 438}, {'quantity': 23, 'price': 302},  {'quantity': 50, 'price': 412}],\n",
        "    '100000280': [{'quantity': 26, 'price': 175}, ]\n",
        "}\n",
        "\n",
        "for name_titles in titles:\n",
        "    code_titles = titles[name_titles]\n",
        "    total_price = 0\n",
        "    total_quantity = 0\n",
        "    for quantity_price in store[code_titles]:\n",
        "        total_price = total_price + quantity_price['quantity'] * quantity_price['price']\n",
        "        total_quantity += quantity_price['quantity']\n",
        "    print(name_titles, '-', total_quantity, 'шт, общей стоимостью', total_price, 'рублей.')"
      ],
      "metadata": {
        "colab": {
          "base_uri": "https://localhost:8080/"
        },
        "id": "mkVsyEV4hDEx",
        "outputId": "c1193739-54ff-4918-d6e4-6424ecfc4160"
      },
      "execution_count": 23,
      "outputs": [
        {
          "output_type": "stream",
          "name": "stdout",
          "text": [
            "Кроссовки тип 3 (Adidas) - 31 шт, общей стоимостью 50747 рублей.\n",
            "Мячик тип 2 (Adidas) - 14 шт, общей стоимостью 660 рублей.\n",
            "Кепка тип 1 (Adidas) - 60 шт, общей стоимостью 17124 рублей.\n",
            "Ремень тип 2 (Nike) - 9 шт, общей стоимостью 1930 рублей.\n",
            "Футболка тип 1 (Adidas) - 134 шт, общей стоимостью 54264 рублей.\n",
            "Шапка тип 5 (Puma) - 26 шт, общей стоимостью 4550 рублей.\n"
          ]
        }
      ]
    },
    {
      "cell_type": "code",
      "source": [],
      "metadata": {
        "id": "JZm5FK5PgreJ"
      },
      "execution_count": null,
      "outputs": []
    }
  ]
}