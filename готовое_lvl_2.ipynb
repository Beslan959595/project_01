{
  "nbformat": 4,
  "nbformat_minor": 0,
  "metadata": {
    "colab": {
      "provenance": [],
      "toc_visible": true,
      "authorship_tag": "ABX9TyNTiIC4vm46obgtEkLyBXgL",
      "include_colab_link": true
    },
    "kernelspec": {
      "name": "python3",
      "display_name": "Python 3"
    },
    "language_info": {
      "name": "python"
    }
  },
  "cells": [
    {
      "cell_type": "markdown",
      "metadata": {
        "id": "view-in-github",
        "colab_type": "text"
      },
      "source": [
        "<a href=\"https://colab.research.google.com/github/Beslan959595/project_01/blob/main/%D0%B3%D0%BE%D1%82%D0%BE%D0%B2%D0%BE%D0%B5_lvl_2.ipynb\" target=\"_parent\"><img src=\"https://colab.research.google.com/assets/colab-badge.svg\" alt=\"Open In Colab\"/></a>"
      ]
    },
    {
      "cell_type": "code",
      "source": [],
      "metadata": {
        "id": "Ae6Q4JEPXSk8"
      },
      "execution_count": null,
      "outputs": []
    },
    {
      "cell_type": "code",
      "execution_count": null,
      "metadata": {
        "id": "XJYYMiAyVre-",
        "colab": {
          "base_uri": "https://localhost:8080/"
        },
        "outputId": "3e90a72b-9c40-4823-8478-4a5be4be65ce"
      },
      "outputs": [
        {
          "output_type": "stream",
          "name": "stdout",
          "text": [
            "Введите целое число...10\n",
            "Введите целое число...20\n",
            "Введите целое число...39\n",
            "Введите целое число...399\n",
            "Введите целое число...19\n",
            "Максимальное: 399 Минимальное: 10\n"
          ]
        }
      ],
      "source": [
        "# Задача 2.1. \n",
        "\n",
        "# Создайте две функции maximum и minimum,\n",
        "# которые получают список целых чисел в качестве входных данных \n",
        "# и возвращают наибольшее и наименьшее число в этом списке соответственно.\n",
        "# Например,\n",
        "# * [4,6,2,1,9,63,-134,566]         -> max = 566, min = -134\n",
        "# * [-52, 56, 30, 29, -54, 0, -110] -> min = -110, max = 56\n",
        "# * [42, 54, 65, 87, 0]             -> min = 0, max = 87\n",
        "# * [5]                             -> min = 5, max = 5\n",
        "# функции sorted, max и min использовать нельзя!\n",
        "\n",
        "A = []\n",
        "def maximum(arr): float('-inf')                        \n",
        "def minimum(arr): float('inf')                         \n",
        "a = int(input('Введите целое число...'))   \n",
        "c = int(input('Введите целое число...'))\n",
        "d = int(input('Введите целое число...'))\n",
        "e = int(input('Введите целое число...'))\n",
        "f = int(input('Введите целое число...'))\n",
        "A += a, c, d, e, f\n",
        "for i in A:\n",
        "    if i > max_:\n",
        "        max_ = i                            \n",
        "    if i < min_:                            \n",
        "        min_ = i                            \n",
        "\n",
        "print(f'Максимальное: {max_}' , f'Минимальное: {min_}' )"
      ]
    },
    {
      "cell_type": "code",
      "execution_count": 37,
      "metadata": {
        "colab": {
          "base_uri": "https://localhost:8080/"
        },
        "id": "HmTOUsdcXXVc",
        "outputId": "b9f64168-0ff5-4d80-d226-e7053658d8d0"
      },
      "outputs": [
        {
          "output_type": "stream",
          "name": "stdout",
          "text": [
            "Введите номер месяца: 1\n",
            "3 четверть\n"
          ]
        }
      ],
      "source": [
        "# Задача 2.2. \n",
        "\n",
        "# Напишите функцию, которая возвращает номер квартал по номеру месяца\n",
        "# Например: \n",
        "# месяц 2 (февраль) является частью первого квартала; \n",
        "# месяц 6 (июнь) является частью второго квартала; \n",
        "# месяц 11 (ноябрь) является частью четвертого квартала.\n",
        "\n",
        "def chetvert(month):\n",
        "    if month in [9, 10]:\n",
        "        return '1 четверть'\n",
        "    elif month in [11, 12]:\n",
        "        return '2 четверть'\n",
        "    elif month in [1, 2, 3, 4]:\n",
        "        return '3 четверть'\n",
        "    elif month in [5, 6]:\n",
        "        return '4 четверть'\n",
        "\n",
        "month = int(input(\"Введите номер месяца: \"))\n",
        "print(chetvert(month))"
      ]
    },
    {
      "cell_type": "code",
      "source": [
        "# Задача 2.3.\n",
        "\n",
        "# Напишите функцию, которая принимает цифры от 0 до 9 и возвращает значение прописью.\n",
        "# Например,\n",
        "# switch_it_up(1) -> 'One'\n",
        "# switch_it_up(3) -> 'Three'\n",
        "# switch_it_up(10000) -> None\n",
        "# Использовать условный оператор if-elif-else нельзя!\n",
        "\n",
        "def switch_it_up():\n",
        "    number = input('Введите цифру от 0-9: ')\n",
        "    num_name = {\n",
        "        0: 'Zero',\n",
        "        1: 'One',\n",
        "        2: 'Two',\n",
        "        3: 'Three',\n",
        "        4: 'Four',\n",
        "        5: 'Five',\n",
        "        6: 'Six',\n",
        "        7: 'Seven',\n",
        "        8: 'Eight',\n",
        "        9: 'Nine',\n",
        "    }\n",
        "    print(f'Вы ввели {number} -> {num_name.get(int(number))}')\n",
        " \n",
        "switch_it_up()"
      ],
      "metadata": {
        "colab": {
          "base_uri": "https://localhost:8080/"
        },
        "id": "iQKXsdFvdUe6",
        "outputId": "29c3a2c1-82da-4646-af9c-82b1dbe463fb"
      },
      "execution_count": 87,
      "outputs": [
        {
          "output_type": "stream",
          "name": "stdout",
          "text": [
            "Введите цифру от 0-9: 1\n",
            "Вы ввели 1 -> One\n"
          ]
        }
      ]
    },
    {
      "cell_type": "code",
      "source": [
        "# Задача 2.4.\n",
        "\n",
        "# Пункт A.\n",
        "# Напишите функцию, которая удаляет все восклицательные знаки из заданной строк.\n",
        "# Например,\n",
        "# foo(\"Hi! Hello!\") -> \"Hi Hello\"\n",
        "# foo(\"\") -> \"\"\n",
        "# foo(\"Oh, no!!!\") -> \"Oh, no\"\n",
        "\n",
        "import re\n",
        "s = 'Hello!!!!!!!!!!!!!{ world!'\n",
        "reg = re.compile('[^a-zA-Z ]')\n",
        "print(reg.sub('', s))\n",
        "\n",
        "\n",
        "\n",
        "\n",
        "\n",
        "\n",
        "\n",
        "# Пункт B.\n",
        "# Удалите восклицательный знак из конца строки. \n",
        "# remove(\"Hi!\") == \"Hi\"\n",
        "# remove(\"Hi!!!\") == \"Hi!!\"\n",
        "# remove(\"!Hi\") == \"!Hi\"\n",
        "\n",
        "import string\n",
        " \n",
        "if __name__ == '__main__':\n",
        " \n",
        "    s = 'Hello, World!'\n",
        " \n",
        "    s = s.translate(str.maketrans('', '', string.punctuation))\n",
        "    print(s)"
      ],
      "metadata": {
        "colab": {
          "base_uri": "https://localhost:8080/"
        },
        "id": "8YLRdrIpq4Qp",
        "outputId": "ddcb37bb-dd46-4af2-e095-3a275f71283e"
      },
      "execution_count": 102,
      "outputs": [
        {
          "output_type": "stream",
          "name": "stdout",
          "text": [
            "Hello world\n"
          ]
        }
      ]
    }
  ]
}