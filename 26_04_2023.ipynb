{
  "nbformat": 4,
  "nbformat_minor": 0,
  "metadata": {
    "colab": {
      "provenance": [],
      "authorship_tag": "ABX9TyMiARlUhUxM6H87cDAkHNMF",
      "include_colab_link": true
    },
    "kernelspec": {
      "name": "python3",
      "display_name": "Python 3"
    },
    "language_info": {
      "name": "python"
    }
  },
  "cells": [
    {
      "cell_type": "markdown",
      "metadata": {
        "id": "view-in-github",
        "colab_type": "text"
      },
      "source": [
        "<a href=\"https://colab.research.google.com/github/Beslan959595/project_01/blob/main/26_04_2023.ipynb\" target=\"_parent\"><img src=\"https://colab.research.google.com/assets/colab-badge.svg\" alt=\"Open In Colab\"/></a>"
      ]
    },
    {
      "cell_type": "code",
      "execution_count": 4,
      "metadata": {
        "id": "eA8Lzv1DzuhM",
        "colab": {
          "base_uri": "https://localhost:8080/"
        },
        "outputId": "c74c6864-c8c4-4ebc-e386-948ffb2624da"
      },
      "outputs": [
        {
          "name": "stdout",
          "output_type": "stream",
          "text": [
            "Буква q будет закрывать программу\n",
            "Знак (+,-,*,/,%): +\n",
            "x= 2\n",
            "y= 3\n",
            "5.00\n",
            "Знак (+,-,*,/,%): -\n",
            "x= 10\n",
            "y= 7\n",
            "3.00\n",
            "Знак (+,-,*,/,%): *\n",
            "x= 5\n",
            "y= 5\n",
            "25.00\n",
            "Знак (+,-,*,/,%): /\n",
            "x= 25\n",
            "y= 5\n",
            "5.00\n",
            "Знак (+,-,*,/,%): %\n",
            "x - число от которого берем %\n",
            "y - процент, который берем\n",
            "x= 15\n",
            "y= 33\n",
            "4.95\n",
            "Знак (+,-,*,/,%): q\n"
          ]
        }
      ],
      "source": [
        "print (\"Буква q будет закрывать программу\")\n",
        "while True:\n",
        "  s = input(\"Знак (+,-,*,/,%): \")\n",
        "  if s == \"q\":\n",
        "    break\n",
        "  if s in ('+', '-', '*', '/', '%'):\n",
        "    if s == '%':\n",
        "      print(\"x - число от которого берем %\")\n",
        "      print(\"y - процент, который берем\")\n",
        "    x = float(input(\"x= \"))\n",
        "    y = float(input(\"y= \"))\n",
        "    if s == '+':\n",
        "        print(\"%.2f\" % (x+y))\n",
        "    elif s == '-':\n",
        "        print(\"%.2f\" % (x-y))\n",
        "    elif s == '*':\n",
        "        print(\"%.2f\" % (x*y))\n",
        "    elif s == '%':\n",
        "        print(\"%.2f\" % (x / 100 * y))\n",
        "    elif s == '/':\n",
        "        if y != 0:\n",
        "          print(\"%.2f\" % (x/y))\n",
        "        else:\n",
        "          print(\"Деление на 0\")\n",
        "  else:\n",
        "    print (\"Знак операции не распознан\")\n",
        "  \n",
        "         "
      ]
    }
  ]
}